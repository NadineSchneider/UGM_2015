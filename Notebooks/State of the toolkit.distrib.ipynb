{
 "cells": [
  {
   "cell_type": "markdown",
   "metadata": {
    "slideshow": {
     "slide_type": "slide"
    }
   },
   "source": [
    "<table style=\"border:none\">\n",
    "<tr style=\"border:none\">\n",
    "<td colspan=2 style=\"border:none\">\n",
    "</td>\n",
    "</tr>\n",
    "<tr style=\"border:none\">\n",
    "<td colspan=2 style=\"border:none\">\n",
    "<h1>RDKit: State of the toolkit</h1>\n",
    "</td>\n",
    "</tr>\n",
    "<tr style=\"border:none\">\n",
    "<td style=\"border:none\"><h2>RDKit 2015 UGM, Zürich Switzerland</h2>\n",
    "Greg Landrum, Ph.D.<br />\n",
    "NIBR Informatics <br />\n",
    "Novartis Institutes for BioMedical Research<br />\n",
    "Basel, Switzerland<br />\n",
    "</td>\n",
    "<td style=\"border:none\">\n",
    "<img src=\"images/logo.lrg.png\" alt=\"RDKit logo\" />\n",
    "</td>\n",
    "</tr></table>"
   ]
  },
  {
   "cell_type": "markdown",
   "metadata": {
    "slideshow": {
     "slide_type": "slide"
    }
   },
   "source": [
    "# An overview of the RDKit\n"
   ]
  },
  {
   "cell_type": "markdown",
   "metadata": {
    "slideshow": {
     "slide_type": "subslide"
    }
   },
   "source": [
    "## Open-source toolkit for cheminformatics\n",
    "-   BSD licensed\n",
    "-   Core data structures and algorithms in C++\n",
    "-   Python (2.x and 3.x) wrapper generated using Boost.Python\n",
    "-   Java and C\\# wrappers generated with SWIG\n",
    "-   2D and 3D molecular operations\n",
    "-   Descriptor generation for machine learning\n",
    "-   Molecular database cartridge for PostgreSQL\n",
    "-   Cheminformatics nodes for KNIME (distributed from the KNIME community site: http://tech.knime.org/community/rdkit)\n"
   ]
  },
  {
   "cell_type": "markdown",
   "metadata": {
    "slideshow": {
     "slide_type": "subslide"
    }
   },
   "source": [
    "## Ecosystem\n",
    "\n",
    "![RDKit ecosystem](images/ecosystem.png)\n",
    "\n",
    "*Exact same algorithms/implementations accessible from many different endpoints*"
   ]
  },
  {
   "cell_type": "markdown",
   "metadata": {
    "slideshow": {
     "slide_type": "subslide"
    }
   },
   "source": [
    "## Operational\n",
    "-   http://www.rdkit.org\n",
    "-   Supports Mac/Windows/Linux\n",
    "-   Releases every 6 months\n",
    "-   Web presence:\n",
    "    -   Homepage: http://www.rdkit.org\n",
    "        Documentation, links\n",
    "    -   Github (https://github.com/rdkit)\n",
    "        Bug tracker, git repository\n",
    "    -   Sourceforge (http://sourceforge.net/projects/rdkit)\n",
    "        Mailing lists\n",
    "-   Mailing lists at https://sourceforge.net/p/rdkit/mailman/, searchable archives available for [rdkit-discuss](http://www.mail-archive.com/rdkit-discuss@lists.sourceforge.net/) and [rdkit-devel](http://www.mail-archive.com/rdkit-devel@lists.sourceforge.net/)\n"
   ]
  },
  {
   "cell_type": "markdown",
   "metadata": {
    "slideshow": {
     "slide_type": "subslide"
    }
   },
   "source": [
    "## History and Milestones:\n",
    "- 2000-2006: initial development work at Rational Discovery\n",
    "- 2006: code open sourced and released on sourceforge.net\n",
    "- 2007: First NIBR contribution (chemical reaction handling); Noel discovers the RDKit (=first rdkit-discuss post?)\n",
    "- 2008: first POC of Java wrapper; Mac support added; SLN and Mol2 parsers; \n",
    "- 2009: Morgan fingerprints; switch to cmake; switch to VF2 for SSS\n",
    "- 2010: PostgreSQL cartridge; First iteration of the KNIME nodes; $RDBASE/Contrib appears; SaltRemover and FunctionalGroups code\n",
    "- 2011: New Java wrappers; more functionality moved to C++; InChI support; Avalontools integration\n",
    "- 2012: First UGM; Speed improvements; MCS implementation; IPython integration; “RDKit Cookbook” appears\n",
    "- 2013: Move to github; Pandas integration; MMFF and Open3DAlign support; PDB support; rdkit blog started\n",
    "- 2014: python3 support; conda integration; experimental lucene integration; MCS implementation in C++\n",
    "- 2015: new drawing code; improved canonicalization algorithm; improved 3D coordinate generation; reduced memory usage\n"
   ]
  },
  {
   "cell_type": "markdown",
   "metadata": {
    "slideshow": {
     "slide_type": "subslide"
    }
   },
   "source": [
    "## Functionality Overview: Basics\n",
    "-   Input/Output: SMILES/SMARTS, SDF, TDT, SLN [1](#footnote1), Corina mol2 [1](#footnote1), PDB\n",
    "- Substructure searching\n",
    "- Canonical SMILES\n",
    "- Chirality support (i.e. R/S or E/Z labeling)\n",
    "- Chemical transformations (e.g. remove matching substructures)\n",
    "- Chemical reactions\n",
    "- Molecular serialization (e.g. mol \\<-\\> text)\n",
    "- 2D depiction, including constrained depiction\n",
    "- Fingerprinting: Daylight-like, atom pairs, topological torsions, Morgan algorithm, “MACCS keys”, etc.\n",
    "- Similarity/diversity picking\n",
    "- Gasteiger-Marsili charges\n",
    "- Bemis and Murcko scaffold determination\n",
    "- Salt stripping\n",
    "- Functional-group filters"
   ]
  },
  {
   "cell_type": "markdown",
   "metadata": {
    "slideshow": {
     "slide_type": "subslide"
    }
   },
   "source": [
    "## Functionality Overview: 2D\n",
    "-   2D pharmacophores [1](#footnote1)\n",
    "-   Hierarchical subgraph/fragment analysis\n",
    "-   RECAP and BRICS implementations\n",
    "-   Multi-molecule maximum common substructure [2](#footnote2)\n",
    "-   Functional group filtering\n",
    "-   Molecular descriptor library:\n",
    "    - Topological (κ3, Balaban J, etc.)\n",
    "    - Compositional (Number of Rings, Number of Aromatic Heterocycles, etc.)\n",
    "    - Electrotopological state (Estate)\n",
    "    - clogP, MR (Wildman and Crippen approach)\n",
    "    - “MOE like” VSA descriptors\n",
    "    - MQN [6](#footnote6)\n",
    "-   Similarity Maps [7](#footnote7)\n",
    "-   Machine Learning:\n",
    "    - Clustering (hierarchical, Butina)\n",
    "    - Information theory (Shannon entropy, information gain, etc.)\n",
    "-   Tight integration with the [IPython](http://ipython.org) notebook and [Pandas](http://pandas.pydata.org/).\n"
   ]
  },
  {
   "cell_type": "markdown",
   "metadata": {
    "slideshow": {
     "slide_type": "subslide"
    }
   },
   "source": [
    "## Functionality Overview: 3D\n",
    "- 2D-\\>3D conversion/conformational analysis via distance geometry\n",
    "- UFF and MMFF94/MMFF94S implementations for cleaning up structures\n",
    "- Pharmacophore embedding (generate a pose of a molecule that matches a 3D pharmacophore) [1](#footnote1)\n",
    "- Feature maps\n",
    "- Shape-based similarity\n",
    "- RMSD-based molecule-molecule alignment\n",
    "- Shape-based alignment (subshape alignment [3](#footnote3)) [1](#footnote1)\n",
    "- Unsupervised molecule-molecule alignment using the Open3DAlign algorithm [4](#footnote4)\n",
    "- Integration with PyMOL for 3D visualization\n",
    "- Molecular descriptor library:\n",
    "  - Feature-map vectors [5](#footnote5)\n",
    "- Torsion Fingerprint Differences for comparing conformations [8](#footnote8)\n"
   ]
  },
  {
   "cell_type": "markdown",
   "metadata": {
    "slideshow": {
     "slide_type": "subslide"
    }
   },
   "source": [
    "## Functionality Overview: Integrations with other open-source projects\n",
    "\n",
    "- [KNIME](https://tech.knime.org/community/rdkit): Workflow and analytics tool\n",
    "- [Django](http://django-rdkit.readthedocs.org/en/latest/): \"The web framework for perfectionists with deadlines\"\n",
    "- [PostgreSQL](https://github.com/rdkit/rdkit/blob/master/Docs/Book/Cartridge.rst): Extensible relational database\n",
    "- [Lucene](https://github.com/rdkit/org.rdkit.lucene): Text-search engine [1](#footnote1)"
   ]
  },
  {
   "cell_type": "markdown",
   "metadata": {
    "slideshow": {
     "slide_type": "subslide"
    }
   },
   "source": [
    "## Documentation\n",
    "[Overview](http://rdkit.readthedocs.org/en/latest/):\n",
    "\n",
    "![docs overview](images/docs_overview.png)\n",
    "\n",
    "Generated with Sphinx (standard python documentation tool)"
   ]
  },
  {
   "cell_type": "markdown",
   "metadata": {
    "slideshow": {
     "slide_type": "subslide"
    }
   },
   "source": [
    "## Documentation\n",
    "[Sample](http://rdkit.readthedocs.org/en/latest/GettingStartedInPython.html#reading-single-molecules):\n",
    "\n",
    "![doc zoom](images/docs_zoom.png)\n",
    "\n",
    "All Python code samples are *tested* to protect against doc-rot.\n"
   ]
  },
  {
   "cell_type": "markdown",
   "metadata": {
    "slideshow": {
     "slide_type": "subslide"
    }
   },
   "source": [
    "## Footnotes\n",
    "<a name=\"footnote1\">1</a>: These implementations are functional but are not necessarily the best, fastest, or most complete.\n",
    "\n",
    "<a name=\"footnote2\">2</a>: Originally contributed by Andrew Dalke\n",
    "\n",
    "<a name=\"footnote3\">3</a>: Putta, S., Eksterowicz, J., Lemmen, C. & Stanton, R. \"A Novel Subshape Molecular Descriptor\" *Journal of Chemical Information and Computer Sciences* **43:1623–35** (2003).\n",
    "\n",
    "<a name=\"footnote4\">4</a>: Tosco, P., Balle, T. & Shiri, F. \"Open3DALIGN: an open-source software aimed at unsupervised ligand alignment.\" *J Comput Aided Mol Des* **25:777–83** (2011).\n",
    "\n",
    "<a name=\"footnote5\">5</a>: Landrum, G., Penzotti, J. & Putta, S. \"Feature-map vectors: a new class of informative descriptors for computational drug discovery\" *Journal of Computer-Aided Molecular Design* **20:751–62** (2006).\n",
    "\n",
    "<a name=\"footnote6\">6</a>: Nguyen, K. T., Blum, L. C., van Deursen, R. & Reymond, J.-L. \"Classification of Organic Molecules by Molecular Quantum Numbers.\" *ChemMedChem* **4:1803–5** (2009).\n",
    "\n",
    "<a name=\"footnote7\">7</a>: Riniker, S. & Landrum, G. A. \"Similarity maps - a visualization strategy for molecular fingerprints and machine-learning methods.\" *Journal of Cheminformatics* **5:43** (2013).\n",
    "\n",
    "<a name=\"footnote8\">8</a>: Schulz-Gasch, T., Schärfer, C., Guba, W. & Rarey, M. \"TFD: Torsion Fingerprints As a New Measure To Compare Small Molecule Conformations.\" *J. Chem. Inf. Model.* **52:1499–1512** (2012).\n",
    "\n"
   ]
  },
  {
   "cell_type": "markdown",
   "metadata": {
    "slideshow": {
     "slide_type": "slide"
    }
   },
   "source": [
    "# Sustainability\n",
    "\n",
    "Solving the bus problem...\n",
    "\n",
    "- This clearly isn’t just a hobby project any more\n",
    "- Used internally in NIBR and other companies in multiple production systems\n",
    "- Contributions coming in from the community, including from other companies\n",
    "- I’m no longer the only one answering questions on the mailing list\n",
    "- Part of other open-source projects\n"
   ]
  },
  {
   "cell_type": "markdown",
   "metadata": {
    "slideshow": {
     "slide_type": "slide"
    }
   },
   "source": [
    "# Community\n",
    "\n",
    "The core of any open-source project\n"
   ]
  },
  {
   "cell_type": "markdown",
   "metadata": {
    "slideshow": {
     "slide_type": "subslide"
    }
   },
   "source": [
    "## Who's using it?\n",
    "\n",
    "Hard to say with any certainty\n",
    "\n",
    "- Active contributors to the mailing list from:\n",
    "  - Big pharma\n",
    "  - Small pharma/biotech\n",
    "  - Software/Services\n",
    "  - Academia\n",
    "- Each of the last two UGMs at capacity with 40+ attendees\n",
    "- Contributions coming from the community:\n",
    "  - bug reports  \n",
    "  - code and documentation patches : [recent commits](https://github.com/rdkit/rdkit/graphs/contributors?from=2014-10-01&to=2015-08-25&type=c)\n",
    "  - active use in other systems\n",
    "- Community contributions for packaging:\n",
    "  - rpms/debs for Fedora/Debian linux\n",
    "  - homebrew recipe for MacOS\n",
    "  - conda packages\n"
   ]
  },
  {
   "cell_type": "markdown",
   "metadata": {
    "slideshow": {
     "slide_type": "subslide"
    }
   },
   "source": [
    "## Contrib dir\n",
    "\n",
    "The Contrib directory, part of the standard RDKit distribution, includes code that has been contributed by members of the community.\n",
    "\n",
    "### LEF: Local Environment Fingerprints\n",
    "\n",
    "Contains python source code from the publications:\n",
    "\n",
    "-   A. Vulpetti, U. Hommel, G. Landrum, R. Lewis and C. Dalvit, \"Design and NMR-based screening of LEF, a library of chemical fragments with different Local Environment of Fluorine\" *J. Am. Chem. Soc.* **131:12949-59** (2009). http://dx.doi.org/10.1021/ja905207t\n",
    "-   Vulpetti, G. Landrum, S. Ruedisser, P. Erbel and C. Dalvit, \"19F NMR Chemical Shift Prediction with Fluorine Fingerprint Descriptor\" *J. of Fluorine Chemistry* **131:570-7** (2010). http://dx.doi.org/10.1016/j.jfluchem.2009.12.024\n",
    "\n",
    "Contribution from Anna Vulpetti\n",
    "\n",
    "### M\\_Kossner\n",
    "\n",
    "Contains a set of pharmacophoric feature definitions as well as code for finding molecular frameworks.\n",
    "\n",
    "Contribution from Markus Kossner\n",
    "\n",
    "### PBF: Plane of best fit\n",
    "\n",
    "Contains C++ source code and sample data from the publication:\n",
    "\n",
    "Firth, N. Brown, and J. Blagg, \"Plane of Best Fit: A Novel Method to Characterize the Three-Dimensionality of Molecules\" *Journal of Chemical Information and Modeling* **52:2516-25** (2012). http://pubs.acs.org/doi/abs/10.1021/ci300293f\n",
    "\n",
    "Contribution from Nicholas Firth\n",
    "\n",
    "### mmpa: Matched molecular pairs\n",
    "\n",
    "Python source and sample data for an implementation of the matched-molecular pair algorithm described in the publication:\n",
    "\n",
    "Hussain, J., & Rea, C. \"Computationally efficient algorithm to identify matched molecular pairs (MMPs) in large data sets.\" *Journal of chemical information and modeling* **50:339-48** (2010). http://dx.doi.org/10.1021/ci900450m\n",
    "\n",
    "Includes a fragment indexing algorithm from the publication:\n",
    "\n",
    "Wagener, M., & Lommerse, J. P. \"The quest for bioisosteric replacements.\" *Journal of chemical information and modeling* **46:677-85** (2006).\n",
    "\n",
    "Contribution from Jameed Hussain.\n",
    "\n",
    "### SA_Score: Synthetic assessibility score\n",
    "\n",
    "Python source for an implementation of the SA score algorithm described in the publication:\n",
    "\n",
    "Ertl, P. and Schuffenhauer A. \"Estimation of Synthetic Accessibility Score of Drug-like Molecules based on Molecular Complexity and Fragment Contributions\" *Journal of Cheminformatics* **1:8** (2009)\n",
    "\n",
    "Contribution from Peter Ertl\n",
    "\n",
    "### fraggle: A fragment-based molecular similarity algorithm\n",
    "\n",
    "Python source for an implementation of the fraggle similarity algorithm developed at GSK and described in this RDKit UGM presentation: https://github.com/rdkit/UGM_2013/blob/master/Presentations/Hussain.Fraggle.pdf\n",
    "\n",
    "Contribution from Jameed Hussain\n",
    "\n",
    "### pzc: Tools for building and validating classifiers\n",
    "\n",
    "Contribution from Paul Czodrowski\n",
    "\n",
    "### ConformerParser: parser for Amber trajectory files\n",
    "\n",
    "Contribution from Sereina Riniker\n",
    "\n",
    "### NP_Score: Natural-product likeness score\n",
    "\n",
    "Python source for an implementation of the NP score algorithm described in the publication:\n",
    "\n",
    "\"Natural Product Likeness Score and Its Application for Prioritization of Compound Libraries\" \n",
    "Peter Ertl, Silvio Roggo, and Ansgar Schuffenhauer\n",
    "*Journal of Chemical Information and Modeling* **48:68-74** (2008)\n",
    "http://pubs.acs.org/doi/abs/10.1021/ci700286x\n",
    "\n",
    "Contribution from Peter Ertl\n"
   ]
  },
  {
   "cell_type": "markdown",
   "metadata": {
    "slideshow": {
     "slide_type": "subslide"
    }
   },
   "source": [
    "## Integration into other projects\n",
    "\n",
    "- [ChEMBL Beaker](https://github.com/mnowotka/chembl_beaker) - standalone web server wrapper for RDKit and OSRA\n",
    "- [myChEMBL](https://github.com/chembl/mychembl) ([blog post](http://chembl.blogspot.de/2013/10/chembl-virtual-machine-aka-mychembl.html), [paper](http://bioinformatics.oxfordjournals.org/content/early/2013/11/20/bioinformatics.btt666)) - A virtual machine implementation of open data and cheminformatics tools\n",
    "- [sdf_viewer.py](https://github.com/apahl/sdf_viewer) - an interactive SDF viewer\n",
    "- [sdf2ppt](https://github.com/dkuhn/sdf2ppt) - Reads an SDFile and displays molecules as image grid in powerpoint/openoffice presentation.\n",
    "- [MolGears](https://github.com/admed/molgears) - A cheminformatics tool for bioactive molecules\n",
    "- [PYPL](http://www.biochemfusion.com/downloads/#OracleUtilities) - Simple cartridge that lets you call Python scripts from Oracle PL/SQL.\n",
    "- [shape-it-rdkit](https://github.com/jandom/shape-it-rdkit) - Gaussian molecular overlap code shape-it (from silicos it) ported to RDKit backend\n",
    "- [WONKA](http://wonka.sgc.ox.ac.uk/WONKA/) - Tool for analysis and interrogation of protein-ligand crystal structures\n",
    "- [OOMMPPAA](http://oommppaa.sgc.ox.ac.uk/OOMMPPAA/) - Tool for directed synthesis and data analysis based on protein-ligand crystal structures\n",
    "- [django-rdkit](http://django-rdkit.readthedocs.org/en/latest/) - Integration of the RDKit with Django\n",
    "- [chemfp](http://chemfp.com)\n",
    "- [Vernalis KNIME nodes](https://tech.knime.org/book/vernalis-nodes-for-knime-trusted-extension)\n",
    "- [Erlwood KNIME nodes](https://tech.knime.org/community/erlwood)\n",
    "- [AZOrange](https://github.com/AZcompTox/AZOrange)\n"
   ]
  },
  {
   "cell_type": "markdown",
   "metadata": {
    "slideshow": {
     "slide_type": "slide"
    }
   },
   "source": [
    "# The Future\n",
    "\n",
    "Future work tends to be determined by what's needed for active projects or requests that come out of the community. Here's a set of some things are already on the \"ToDo\" list or that are just being thought about."
   ]
  },
  {
   "cell_type": "markdown",
   "metadata": {
    "slideshow": {
     "slide_type": "subslide"
    }
   },
   "source": [
    "## Technical Debt/Code improvements\n",
    "\n",
    "- Ongoing performance improvements\n",
    "- Explore use of GPUs\n",
    "- Reduction in memory usage\n",
    "- Moving code from Python to C++\n",
    "    - MMPA code from Contrib\n",
    "- Move to modern C++ (i.e. C++11/14)\n",
    "- Extend and better document the SWIG wrappers\n",
    "- Switch to boost.logging\n",
    "- More demos/documentation for advanced functionality"
   ]
  },
  {
   "cell_type": "markdown",
   "metadata": {
    "slideshow": {
     "slide_type": "fragment"
    }
   },
   "source": [
    "[This](http://bukai.pharm.or.jp/bukai_kozo/SARNews/SARNews_19.pdf) shouldn't be the only available tutorial for the ph4 embedding functionality:\n",
    "![japanese ph4 tutorial](images/ph4_tutorial.png)"
   ]
  },
  {
   "cell_type": "markdown",
   "metadata": {
    "slideshow": {
     "slide_type": "subslide"
    }
   },
   "source": [
    "## Integrations\n",
    "- Additional KNIME nodes\n",
    "- Additional functionality for the PostgreSQL cartridge\n",
    "- Getting the Lucene integration to v1\n",
    "- Improve 3D integration with IPython notebook\n",
    "- Interactive 2D sketches in IPython notebook\n",
    "- Continued exploration of RDKit use in Javascript via emscripten\n",
    "- Explore integration with one of the NoSQL document stores (i.e. MongoDb, CouchDb, etc.)\n",
    "- Explore integration with Spark"
   ]
  },
  {
   "cell_type": "markdown",
   "metadata": {
    "slideshow": {
     "slide_type": "subslide"
    }
   },
   "source": [
    "## New features: 2D\n",
    "- ongoing improvements in molecule-drawing code\n",
    "- improved S group support\n",
    "- pure RDKit molecular standardization\n",
    "- get molecule hashing code to v1\n",
    "- canonical tautomer generation\n",
    "- canonical CTAB generation\n",
    "- robust and flexible R-group decomposition\n",
    "- implementation of a \"scaffold hopping\" fingerprint like ERG (extended reduced graphs)\n",
    "- improved query-query matching to allow pseudo-Markush substructure searches"
   ]
  },
  {
   "cell_type": "markdown",
   "metadata": {
    "slideshow": {
     "slide_type": "subslide"
    }
   },
   "source": [
    "## New features: 3D\n",
    "- implicit solvent model for the force fields\n",
    "- implementation of a 3D pharmacophore fingerprint\n",
    "- go beyond basics for 3D pharmacophore analysis\n",
    "- get the pharmacophore embedding code to v1\n",
    "- implementation of one-or-more shape-based fingerprints\n",
    "- shape-based alignment\n",
    "- other alignment-free 3D similarity approaches\n",
    "- generation of molecular surfaces\n",
    "- molecular-interaction fields (to allow 3D QSAR)\n",
    "- template-guided embedding in a protein pocket"
   ]
  },
  {
   "cell_type": "markdown",
   "metadata": {
    "slideshow": {
     "slide_type": "slide"
    }
   },
   "source": [
    "# Thanks!\n"
   ]
  }
 ],
 "metadata": {
  "celltoolbar": "Slideshow",
  "kernelspec": {
   "display_name": "Python 2",
   "language": "python",
   "name": "python2"
  },
  "language_info": {
   "codemirror_mode": {
    "name": "ipython",
    "version": 2
   },
   "file_extension": ".py",
   "mimetype": "text/x-python",
   "name": "python",
   "nbconvert_exporter": "python",
   "pygments_lexer": "ipython2",
   "version": "2.7.10"
  }
 },
 "nbformat": 4,
 "nbformat_minor": 0
}
