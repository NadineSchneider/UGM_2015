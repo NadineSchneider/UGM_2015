{
 "cells": [
  {
   "cell_type": "markdown",
   "metadata": {
    "slideshow": {
     "slide_type": "slide"
    }
   },
   "source": [
    "![alt text](http://www.kolblab.org/Pics/pk.cumulative.abstract.wordle.20141201.w.png)"
   ]
  },
  {
   "cell_type": "markdown",
   "metadata": {
    "slideshow": {
     "slide_type": "subslide"
    }
   },
   "source": [
    "## REDFRAG\n",
    "### REDuced graph FRAGment-based similarity searching"
   ]
  },
  {
   "cell_type": "markdown",
   "metadata": {
    "slideshow": {
     "slide_type": "-"
    }
   },
   "source": [
    "![alt text](page-01.png)"
   ]
  },
  {
   "cell_type": "markdown",
   "metadata": {
    "slideshow": {
     "slide_type": "subslide"
    }
   },
   "source": [
    "## The MedChem Dogma\n",
    "### *You reap what you sow*"
   ]
  },
  {
   "cell_type": "markdown",
   "metadata": {},
   "source": [
    "![alt text](page-02.png)"
   ]
  },
  {
   "cell_type": "markdown",
   "metadata": {
    "slideshow": {
     "slide_type": "subslide"
    }
   },
   "source": [
    "## Dogmatic exploitation\n",
    "### *Compound activity prediction by similarity*"
   ]
  },
  {
   "cell_type": "markdown",
   "metadata": {},
   "source": [
    "![alt text](page-03.png)"
   ]
  },
  {
   "cell_type": "markdown",
   "metadata": {
    "slideshow": {
     "slide_type": "subslide"
    }
   },
   "source": [
    "## Compound similarity\n",
    "### *The holistic approach*"
   ]
  },
  {
   "cell_type": "markdown",
   "metadata": {},
   "source": [
    "![alt text](page-04.png)"
   ]
  },
  {
   "cell_type": "markdown",
   "metadata": {
    "slideshow": {
     "slide_type": "subslide"
    }
   },
   "source": [
    "## Compound similarity\n",
    "### *Type nodes and compare the colors*"
   ]
  },
  {
   "cell_type": "markdown",
   "metadata": {},
   "source": [
    "![alt text](page-05.png)"
   ]
  },
  {
   "cell_type": "markdown",
   "metadata": {
    "slideshow": {
     "slide_type": "subslide"
    }
   },
   "source": [
    "## Compound similarity\n",
    "### *Cut into pieces and calculate fingerprint-based similarity*"
   ]
  },
  {
   "cell_type": "markdown",
   "metadata": {},
   "source": [
    "![alt text](page-06.png)"
   ]
  },
  {
   "cell_type": "markdown",
   "metadata": {
    "slideshow": {
     "slide_type": "subslide"
    }
   },
   "source": [
    "## Compound similarity\n",
    "### *Scoring of the graph-derived MCS*"
   ]
  },
  {
   "cell_type": "markdown",
   "metadata": {},
   "source": [
    "![alt text](page-07.png)"
   ]
  },
  {
   "cell_type": "markdown",
   "metadata": {
    "slideshow": {
     "slide_type": "subslide"
    }
   },
   "source": [
    "## Validation\n",
    "### *Retrospective + prospective*"
   ]
  },
  {
   "cell_type": "markdown",
   "metadata": {
    "slideshow": {
     "slide_type": "-"
    }
   },
   "source": [
    "![alt text](page-08.png)"
   ]
  },
  {
   "cell_type": "markdown",
   "metadata": {
    "slideshow": {
     "slide_type": "slide"
    }
   },
   "source": [
    "## the redfrag python module\n",
    "### additional modules\n",
    "  - RDKit\n",
    "  - networkx"
   ]
  },
  {
   "cell_type": "markdown",
   "metadata": {
    "slideshow": {
     "slide_type": "slide"
    }
   },
   "source": [
    "## reduced graphs and the RDKit\n",
    "  "
   ]
  },
  {
   "cell_type": "markdown",
   "metadata": {
    "slideshow": {
     "slide_type": "subslide"
    }
   },
   "source": [
    "### let us start with a pair of molecules *mol_r* and *mol_t*"
   ]
  },
  {
   "cell_type": "code",
   "execution_count": 22,
   "metadata": {
    "collapsed": false
   },
   "outputs": [],
   "source": [
    "import rdkit.Chem.Draw.IPythonConsole as rdipc\n",
    "from redfrag import rdchem\n",
    "from redfrag import rdall\n",
    "from redfrag import rftools\n",
    "\n",
    "mol_r = rdchem.MolFromSmiles('c1ccc(c(c1)COc2ccc(cc2CNCCNC(=O)c3c(non3)N)Br)F')\n",
    "mol_t = rdchem.MolFromSmiles('COc1ccc(c(c1OC)OC)CNCCNC(=O)c2ccco2')\n",
    "mol_r.id = \"reference\"\n",
    "mol_t.id = \"target\""
   ]
  },
  {
   "cell_type": "code",
   "execution_count": 23,
   "metadata": {
    "collapsed": false,
    "slideshow": {
     "slide_type": "fragment"
    }
   },
   "outputs": [
    {
     "data": {
      "image/png": "[encoded data removed]",
      "text/plain": [
       "<Image.Image image mode=RGBA size=800x400 at 0x73FA3F0>"
      ]
     },
     "execution_count": 23,
     "metadata": {},
     "output_type": "execute_result"
    }
   ],
   "source": [
    "rdall.Compute2DCoords(mol_r)\n",
    "rdall.Compute2DCoords(mol_t)\n",
    "rftools.draw_molecules([mol_r, mol_t])"
   ]
  },
  {
   "cell_type": "markdown",
   "metadata": {
    "slideshow": {
     "slide_type": "subslide"
    }
   },
   "source": [
    "### reduced graph from a molecule\n",
    "  \n",
    "#### a high-level method"
   ]
  },
  {
   "cell_type": "code",
   "execution_count": 24,
   "metadata": {
    "collapsed": false
   },
   "outputs": [
    {
     "data": {
      "text/plain": [
       "I am an RFGraph.\n",
       "================\n",
       "0   1   [*]Cc1ccccc1F       \n",
       "1   2   [*]Cc1cc(Br)ccc1O[*]\n",
       "2   2   [*]N[*]             \n",
       "3   2   [*]CC[*]            \n",
       "4   2   [*]N[*]             \n",
       "5   1   [*]C(=O)c1nonc1N    "
      ]
     },
     "execution_count": 24,
     "metadata": {},
     "output_type": "execute_result"
    }
   ],
   "source": [
    "rfg_r = rftools.rfgraph_from_molecule(mol_r)\n",
    "rfg_r.id = \"I am an RFGraph.\"\n",
    "rfg_r"
   ]
  },
  {
   "cell_type": "markdown",
   "metadata": {
    "slideshow": {
     "slide_type": "subslide"
    }
   },
   "source": [
    "### step-by-step to a reduced graph\n",
    "  \n",
    "#### 1\\. flag & get *breakable* bonds\n",
    "<br />\n",
    "```python\n",
    "def flag_breakable_bonds(molecule):\n",
    "\n",
    "    for bond in rfdefs.rfrecap_bonds.values():\n",
    "        matches = molecule.GetSubstructMatches(rdchem.MolFromSmarts(bond))\n",
    "        for l, r in matches:\n",
    "            molecule.GetBondBetweenAtoms(l, r).SetIntProp(rfdefs.rfbrekable, 1)\n",
    "    return(True)\n",
    "```\n",
    "```python\n",
    "def get_breakable_bonds(molecule):\n",
    "\n",
    "    bonds = list()\n",
    "    ...\n",
    "    for bond in molecule.get_bonds(unary_predicate):\n",
    "        bonds.append(RFBreakableBond(bond))\n",
    "    return(bonds)\n",
    "```"
   ]
  },
  {
   "cell_type": "code",
   "execution_count": 25,
   "metadata": {
    "collapsed": false,
    "slideshow": {
     "slide_type": "fragment"
    }
   },
   "outputs": [],
   "source": [
    "from redfrag.rffragmenter import RFRECAPFragmenter as rfrecap\n",
    "\n",
    "rfrecap.flag_breakable_bonds(mol_r)\n",
    "bonds = rfrecap.get_breakable_bonds(mol_r)"
   ]
  },
  {
   "cell_type": "markdown",
   "metadata": {
    "slideshow": {
     "slide_type": "subslide"
    }
   },
   "source": [
    "#### 2\\. cleave breakable bonds & create fragments\n",
    "```python\n",
    "def get_fragments(molecule):\n",
    "\n",
    "    ...\n",
    "    fragmentpattern = rdchem.FragmentOnBonds(molecule, bondidxs, dummyLabels = labels)\n",
    "    fragments = list(rdchem.GetMolFrags(fragmentpattern, asMols = True))\n",
    "    atommappings = [map(int, mapping) for mapping in rdchem.GetMolFrags(fragmentpattern)]\n",
    "    ...\n",
    "    return(fragments)\n",
    "```"
   ]
  },
  {
   "cell_type": "code",
   "execution_count": 26,
   "metadata": {
    "collapsed": true,
    "slideshow": {
     "slide_type": "skip"
    }
   },
   "outputs": [],
   "source": [
    "bondidxs = [bond.idx for bond in bonds]\n",
    "labels = [(i + 1, i + 1) for i in xrange(len(bonds))]"
   ]
  },
  {
   "cell_type": "code",
   "execution_count": 27,
   "metadata": {
    "collapsed": false,
    "slideshow": {
     "slide_type": "subslide"
    }
   },
   "outputs": [
    {
     "data": {
      "image/png": "[encoded data removed]",
      "text/plain": [
       "<Image.Image image mode=RGBA size=400x400 at 0x7409F08>"
      ]
     },
     "execution_count": 27,
     "metadata": {},
     "output_type": "execute_result"
    }
   ],
   "source": [
    "fragmentpattern = rdchem.FragmentOnBonds(mol_r, bondidxs, dummyLabels = labels)\n",
    "rftools.draw_molecule(fragmentpattern)"
   ]
  },
  {
   "cell_type": "code",
   "execution_count": 28,
   "metadata": {
    "collapsed": false,
    "slideshow": {
     "slide_type": "fragment"
    }
   },
   "outputs": [
    {
     "data": {
      "text/plain": [
       "[[*]Cc1ccccc1F,\n",
       " [*]Cc1cc(Br)ccc1O[*],\n",
       " [*]N[*],\n",
       " [*]CC[*],\n",
       " [*]N[*],\n",
       " [*]C(=O)c1nonc1N]"
      ]
     },
     "execution_count": 28,
     "metadata": {},
     "output_type": "execute_result"
    }
   ],
   "source": [
    "fragments = list(rdchem.GetMolFrags(fragmentpattern, asMols = True))\n",
    "fragments"
   ]
  },
  {
   "cell_type": "markdown",
   "metadata": {
    "slideshow": {
     "slide_type": "subslide"
    }
   },
   "source": [
    "#### 3\\. retrieve molecule topology\n",
    "<br />\n",
    "```python\n",
    "def get_connections(fragments, ...):\n",
    "\n",
    "    ...\n",
    "    for fragment in fragments:\n",
    "        ...\n",
    "        fragment.connections.add(idx)\n",
    "        ...\n",
    "```"
   ]
  },
  {
   "cell_type": "markdown",
   "metadata": {
    "slideshow": {
     "slide_type": "subslide"
    }
   },
   "source": [
    "### 1-2-3 wrapper method"
   ]
  },
  {
   "cell_type": "code",
   "execution_count": 29,
   "metadata": {
    "collapsed": false,
    "slideshow": {
     "slide_type": "-"
    }
   },
   "outputs": [
    {
     "name": "stdout",
     "output_type": "stream",
     "text": [
      "0 [*]Cc1ccccc1F        set([1])\n",
      "1 [*]Cc1cc(Br)ccc1O[*] set([0, 2])\n",
      "2 [*]N[*]              set([1, 3])\n",
      "3 [*]CC[*]             set([2, 4])\n",
      "4 [*]N[*]              set([3, 5])\n",
      "5 [*]C(=O)c1nonc1N     set([4])\n"
     ]
    }
   ],
   "source": [
    "frags_r = rfrecap.decompose(mol_r)\n",
    "for i, frag in enumerate(frags_r):\n",
    "    print \"{} {:<20}\".format(i,frag), frag.connections"
   ]
  },
  {
   "cell_type": "code",
   "execution_count": 30,
   "metadata": {
    "collapsed": false,
    "slideshow": {
     "slide_type": "fragment"
    }
   },
   "outputs": [
    {
     "data": {
      "image/png": "[encoded data removed]",
      "text/plain": [
       "<Image.Image image mode=RGBA size=400x400 at 0x7409C38>"
      ]
     },
     "execution_count": 30,
     "metadata": {},
     "output_type": "execute_result"
    }
   ],
   "source": [
    "rftools.draw_molecule(mol_r, frags_r)"
   ]
  },
  {
   "cell_type": "code",
   "execution_count": 31,
   "metadata": {
    "collapsed": false,
    "slideshow": {
     "slide_type": "subslide"
    }
   },
   "outputs": [
    {
     "data": {
      "image/svg+xml": [
       "<svg baseProfile=\"full\" height=\"200px\" version=\"1.1\" width=\"400px\" xml:space=\"preserve\" xmlns:rdkit=\"http://www.rdkit.org/xml\" xmlns:svg=\"http://www.w3.org/2000/svg\" xmlns:xlink=\"http://www.w3.org/1999/xlink\">\n",
       "<rect height=\"200\" style=\"opacity:1.0;fill:#ffffff;stroke:none\" width=\"400\" x=\"0\" y=\"0\"> </rect>\n",
       "<path d=\"M 302.066,22.8831 282.312,9.09091\" style=\"fill:none;fill-rule:evenodd;stroke:#AA7F11;stroke-width:10px;stroke-linecap:butt;stroke-linejoin:miter;stroke-opacity:1\"/>\n",
       "<path d=\"M 302.066,22.8831 299.999,46.8868\" style=\"fill:none;fill-rule:evenodd;stroke:#AA7F11;stroke-width:10px;stroke-linecap:butt;stroke-linejoin:miter;stroke-opacity:1\"/>\n",
       "<path d=\"M 282.312,9.09091 260.49,19.3024\" style=\"fill:none;fill-rule:evenodd;stroke:#AA7F11;stroke-width:10px;stroke-linecap:butt;stroke-linejoin:miter;stroke-opacity:1\"/>\n",
       "<path d=\"M 260.49,19.3024 258.423,43.3061\" style=\"fill:none;fill-rule:evenodd;stroke:#AA7F11;stroke-width:10px;stroke-linecap:butt;stroke-linejoin:miter;stroke-opacity:1\"/>\n",
       "<path d=\"M 258.423,43.3061 278.177,57.0983\" style=\"fill:none;fill-rule:evenodd;stroke:#AA7F11;stroke-width:10px;stroke-linecap:butt;stroke-linejoin:miter;stroke-opacity:1\"/>\n",
       "<path d=\"M 258.423,43.3061 236.601,53.5177\" style=\"fill:none;fill-rule:evenodd;stroke:#AA7F11;stroke-width:10px;stroke-linecap:butt;stroke-linejoin:miter;stroke-opacity:1\"/>\n",
       "<path d=\"M 278.177,57.0983 299.999,46.8868\" style=\"fill:none;fill-rule:evenodd;stroke:#AA7F11;stroke-width:10px;stroke-linecap:butt;stroke-linejoin:miter;stroke-opacity:1\"/>\n",
       "<path d=\"M 278.177,57.0983 276.11,81.102\" style=\"fill:none;fill-rule:evenodd;stroke:#AA7F11;stroke-width:10px;stroke-linecap:butt;stroke-linejoin:miter;stroke-opacity:1\"/>\n",
       "<path d=\"M 295.864,94.8942 293.797,118.898\" style=\"fill:none;fill-rule:evenodd;stroke:#5E7F87;stroke-width:10px;stroke-linecap:butt;stroke-linejoin:miter;stroke-opacity:1\"/>\n",
       "<path d=\"M 293.797,118.898 313.551,132.69\" style=\"fill:none;fill-rule:evenodd;stroke:#5E7F87;stroke-width:10px;stroke-linecap:butt;stroke-linejoin:miter;stroke-opacity:1\"/>\n",
       "<path d=\"M 293.797,118.898 271.975,129.109\" style=\"fill:none;fill-rule:evenodd;stroke:#5E7F87;stroke-width:10px;stroke-linecap:butt;stroke-linejoin:miter;stroke-opacity:1\"/>\n",
       "<path d=\"M 313.551,132.69 311.484,156.694\" style=\"fill:none;fill-rule:evenodd;stroke:#5E7F87;stroke-width:10px;stroke-linecap:butt;stroke-linejoin:miter;stroke-opacity:1\"/>\n",
       "<path d=\"M 311.484,156.694 289.662,166.905\" style=\"fill:none;fill-rule:evenodd;stroke:#5E7F87;stroke-width:10px;stroke-linecap:butt;stroke-linejoin:miter;stroke-opacity:1\"/>\n",
       "<path d=\"M 289.662,166.905 269.908,153.113\" style=\"fill:none;fill-rule:evenodd;stroke:#5E7F87;stroke-width:10px;stroke-linecap:butt;stroke-linejoin:miter;stroke-opacity:1\"/>\n",
       "<path d=\"M 289.662,166.905 287.595,190.909\" style=\"fill:none;fill-rule:evenodd;stroke:#5E7F87;stroke-width:10px;stroke-linecap:butt;stroke-linejoin:miter;stroke-opacity:1\"/>\n",
       "<path d=\"M 269.908,153.113 271.975,129.109\" style=\"fill:none;fill-rule:evenodd;stroke:#5E7F87;stroke-width:10px;stroke-linecap:butt;stroke-linejoin:miter;stroke-opacity:1\"/>\n",
       "<path d=\"M 271.975,129.109 252.221,115.317\" style=\"fill:none;fill-rule:evenodd;stroke:#5E7F87;stroke-width:10px;stroke-linecap:butt;stroke-linejoin:miter;stroke-opacity:1\"/>\n",
       "<path d=\"M 210.645,111.737 188.824,121.948\" style=\"fill:none;fill-rule:evenodd;stroke:#747F4A;stroke-width:10px;stroke-linecap:butt;stroke-linejoin:miter;stroke-opacity:1\"/>\n",
       "<path d=\"M 147.248,118.367 145.181,142.371\" style=\"fill:none;fill-rule:evenodd;stroke:#C27F43;stroke-width:10px;stroke-linecap:butt;stroke-linejoin:miter;stroke-opacity:1\"/>\n",
       "<path d=\"M 147.248,118.367 127.494,104.575\" style=\"fill:none;fill-rule:evenodd;stroke:#C27F43;stroke-width:10px;stroke-linecap:butt;stroke-linejoin:miter;stroke-opacity:1\"/>\n",
       "<path d=\"M 127.494,104.575 127.041,80.487\" style=\"fill:none;fill-rule:evenodd;stroke:#C27F43;stroke-width:10px;stroke-linecap:butt;stroke-linejoin:miter;stroke-opacity:1\"/>\n",
       "<path d=\"M 127.494,104.575 104.725,112.45\" style=\"fill:none;fill-rule:evenodd;stroke:#C27F43;stroke-width:10px;stroke-linecap:butt;stroke-linejoin:miter;stroke-opacity:1\"/>\n",
       "<path d=\"M 127.041,80.487 103.992,73.4742\" style=\"fill:none;fill-rule:evenodd;stroke:#C27F43;stroke-width:10px;stroke-linecap:butt;stroke-linejoin:miter;stroke-opacity:1\"/>\n",
       "<path d=\"M 127.041,80.487 146.263,65.9616\" style=\"fill:none;fill-rule:evenodd;stroke:#C27F43;stroke-width:10px;stroke-linecap:butt;stroke-linejoin:miter;stroke-opacity:1\"/>\n",
       "<path d=\"M 103.992,73.4742 90.1994,93.2284\" style=\"fill:none;fill-rule:evenodd;stroke:#C27F43;stroke-width:10px;stroke-linecap:butt;stroke-linejoin:miter;stroke-opacity:1\"/>\n",
       "<path d=\"M 90.1994,93.2284 104.725,112.45\" style=\"fill:none;fill-rule:evenodd;stroke:#C27F43;stroke-width:10px;stroke-linecap:butt;stroke-linejoin:miter;stroke-opacity:1\"/>\n",
       "<ellipse cx=\"302.066\" cy=\"22.8831\" rx=\"6.42469\" ry=\"6.42469\" style=\"fill:#AA7F11;fill-rule:evenoddstroke:#AA7F11;stroke-width:1px;stroke-linecap:butt;stroke-linejoin:miter;stroke-opacity:1\"/>\n",
       "<ellipse cx=\"282.312\" cy=\"9.09091\" rx=\"6.42469\" ry=\"6.42469\" style=\"fill:#AA7F11;fill-rule:evenoddstroke:#AA7F11;stroke-width:1px;stroke-linecap:butt;stroke-linejoin:miter;stroke-opacity:1\"/>\n",
       "<ellipse cx=\"260.49\" cy=\"19.3024\" rx=\"6.42469\" ry=\"6.42469\" style=\"fill:#AA7F11;fill-rule:evenoddstroke:#AA7F11;stroke-width:1px;stroke-linecap:butt;stroke-linejoin:miter;stroke-opacity:1\"/>\n",
       "<ellipse cx=\"258.423\" cy=\"43.3061\" rx=\"6.42469\" ry=\"6.42469\" style=\"fill:#AA7F11;fill-rule:evenoddstroke:#AA7F11;stroke-width:1px;stroke-linecap:butt;stroke-linejoin:miter;stroke-opacity:1\"/>\n",
       "<ellipse cx=\"278.177\" cy=\"57.0983\" rx=\"6.42469\" ry=\"6.42469\" style=\"fill:#AA7F11;fill-rule:evenoddstroke:#AA7F11;stroke-width:1px;stroke-linecap:butt;stroke-linejoin:miter;stroke-opacity:1\"/>\n",
       "<ellipse cx=\"299.999\" cy=\"46.8868\" rx=\"6.42469\" ry=\"6.42469\" style=\"fill:#AA7F11;fill-rule:evenoddstroke:#AA7F11;stroke-width:1px;stroke-linecap:butt;stroke-linejoin:miter;stroke-opacity:1\"/>\n",
       "<ellipse cx=\"276.11\" cy=\"81.102\" rx=\"6.42469\" ry=\"6.42469\" style=\"fill:#AA7F11;fill-rule:evenoddstroke:#AA7F11;stroke-width:1px;stroke-linecap:butt;stroke-linejoin:miter;stroke-opacity:1\"/>\n",
       "<ellipse cx=\"295.864\" cy=\"94.8942\" rx=\"6.42469\" ry=\"6.42469\" style=\"fill:#5E7F87;fill-rule:evenoddstroke:#5E7F87;stroke-width:1px;stroke-linecap:butt;stroke-linejoin:miter;stroke-opacity:1\"/>\n",
       "<ellipse cx=\"293.797\" cy=\"118.898\" rx=\"6.42469\" ry=\"6.42469\" style=\"fill:#5E7F87;fill-rule:evenoddstroke:#5E7F87;stroke-width:1px;stroke-linecap:butt;stroke-linejoin:miter;stroke-opacity:1\"/>\n",
       "<ellipse cx=\"313.551\" cy=\"132.69\" rx=\"6.42469\" ry=\"6.42469\" style=\"fill:#5E7F87;fill-rule:evenoddstroke:#5E7F87;stroke-width:1px;stroke-linecap:butt;stroke-linejoin:miter;stroke-opacity:1\"/>\n",
       "<ellipse cx=\"311.484\" cy=\"156.694\" rx=\"6.42469\" ry=\"6.42469\" style=\"fill:#5E7F87;fill-rule:evenoddstroke:#5E7F87;stroke-width:1px;stroke-linecap:butt;stroke-linejoin:miter;stroke-opacity:1\"/>\n",
       "<ellipse cx=\"289.662\" cy=\"166.905\" rx=\"6.42469\" ry=\"6.42469\" style=\"fill:#5E7F87;fill-rule:evenoddstroke:#5E7F87;stroke-width:1px;stroke-linecap:butt;stroke-linejoin:miter;stroke-opacity:1\"/>\n",
       "<ellipse cx=\"269.908\" cy=\"153.113\" rx=\"6.42469\" ry=\"6.42469\" style=\"fill:#5E7F87;fill-rule:evenoddstroke:#5E7F87;stroke-width:1px;stroke-linecap:butt;stroke-linejoin:miter;stroke-opacity:1\"/>\n",
       "<ellipse cx=\"271.975\" cy=\"129.109\" rx=\"6.42469\" ry=\"6.42469\" style=\"fill:#5E7F87;fill-rule:evenoddstroke:#5E7F87;stroke-width:1px;stroke-linecap:butt;stroke-linejoin:miter;stroke-opacity:1\"/>\n",
       "<ellipse cx=\"252.221\" cy=\"115.317\" rx=\"6.42469\" ry=\"6.42469\" style=\"fill:#5E7F87;fill-rule:evenoddstroke:#5E7F87;stroke-width:1px;stroke-linecap:butt;stroke-linejoin:miter;stroke-opacity:1\"/>\n",
       "<ellipse cx=\"230.4\" cy=\"125.529\" rx=\"6.42469\" ry=\"6.42469\" style=\"fill:#D17F78;fill-rule:evenoddstroke:#D17F78;stroke-width:1px;stroke-linecap:butt;stroke-linejoin:miter;stroke-opacity:1\"/>\n",
       "<ellipse cx=\"210.645\" cy=\"111.737\" rx=\"6.42469\" ry=\"6.42469\" style=\"fill:#747F4A;fill-rule:evenoddstroke:#747F4A;stroke-width:1px;stroke-linecap:butt;stroke-linejoin:miter;stroke-opacity:1\"/>\n",
       "<ellipse cx=\"188.824\" cy=\"121.948\" rx=\"6.42469\" ry=\"6.42469\" style=\"fill:#747F4A;fill-rule:evenoddstroke:#747F4A;stroke-width:1px;stroke-linecap:butt;stroke-linejoin:miter;stroke-opacity:1\"/>\n",
       "<ellipse cx=\"169.07\" cy=\"108.156\" rx=\"6.42469\" ry=\"6.42469\" style=\"fill:#0B7F93;fill-rule:evenoddstroke:#0B7F93;stroke-width:1px;stroke-linecap:butt;stroke-linejoin:miter;stroke-opacity:1\"/>\n",
       "<ellipse cx=\"147.248\" cy=\"118.367\" rx=\"6.42469\" ry=\"6.42469\" style=\"fill:#C27F43;fill-rule:evenoddstroke:#C27F43;stroke-width:1px;stroke-linecap:butt;stroke-linejoin:miter;stroke-opacity:1\"/>\n",
       "<ellipse cx=\"145.181\" cy=\"142.371\" rx=\"6.42469\" ry=\"6.42469\" style=\"fill:#C27F43;fill-rule:evenoddstroke:#C27F43;stroke-width:1px;stroke-linecap:butt;stroke-linejoin:miter;stroke-opacity:1\"/>\n",
       "<ellipse cx=\"127.494\" cy=\"104.575\" rx=\"6.42469\" ry=\"6.42469\" style=\"fill:#C27F43;fill-rule:evenoddstroke:#C27F43;stroke-width:1px;stroke-linecap:butt;stroke-linejoin:miter;stroke-opacity:1\"/>\n",
       "<ellipse cx=\"127.041\" cy=\"80.487\" rx=\"6.42469\" ry=\"6.42469\" style=\"fill:#C27F43;fill-rule:evenoddstroke:#C27F43;stroke-width:1px;stroke-linecap:butt;stroke-linejoin:miter;stroke-opacity:1\"/>\n",
       "<ellipse cx=\"103.992\" cy=\"73.4742\" rx=\"6.42469\" ry=\"6.42469\" style=\"fill:#C27F43;fill-rule:evenoddstroke:#C27F43;stroke-width:1px;stroke-linecap:butt;stroke-linejoin:miter;stroke-opacity:1\"/>\n",
       "<ellipse cx=\"90.1994\" cy=\"93.2284\" rx=\"6.42469\" ry=\"6.42469\" style=\"fill:#C27F43;fill-rule:evenoddstroke:#C27F43;stroke-width:1px;stroke-linecap:butt;stroke-linejoin:miter;stroke-opacity:1\"/>\n",
       "<ellipse cx=\"104.725\" cy=\"112.45\" rx=\"6.42469\" ry=\"6.42469\" style=\"fill:#C27F43;fill-rule:evenoddstroke:#C27F43;stroke-width:1px;stroke-linecap:butt;stroke-linejoin:miter;stroke-opacity:1\"/>\n",
       "<ellipse cx=\"146.263\" cy=\"65.9616\" rx=\"6.42469\" ry=\"6.42469\" style=\"fill:#C27F43;fill-rule:evenoddstroke:#C27F43;stroke-width:1px;stroke-linecap:butt;stroke-linejoin:miter;stroke-opacity:1\"/>\n",
       "<ellipse cx=\"287.595\" cy=\"190.909\" rx=\"6.42469\" ry=\"6.42469\" style=\"fill:#5E7F87;fill-rule:evenoddstroke:#5E7F87;stroke-width:1px;stroke-linecap:butt;stroke-linejoin:miter;stroke-opacity:1\"/>\n",
       "<ellipse cx=\"236.601\" cy=\"53.5177\" rx=\"6.42469\" ry=\"6.42469\" style=\"fill:#AA7F11;fill-rule:evenoddstroke:#AA7F11;stroke-width:1px;stroke-linecap:butt;stroke-linejoin:miter;stroke-opacity:1\"/>\n",
       "<path d=\"M 302.066,22.8831 282.312,9.09091\" style=\"fill:none;fill-rule:evenodd;stroke:#000000;stroke-width:2px;stroke-linecap:butt;stroke-linejoin:miter;stroke-opacity:1\"/>\n",
       "<path d=\"M 298.252,24.1378 282.448,13.104\" style=\"fill:none;fill-rule:evenodd;stroke:#000000;stroke-width:2px;stroke-linecap:butt;stroke-linejoin:miter;stroke-opacity:1;stroke-dasharray:6,6\"/>\n",
       "<path d=\"M 302.066,22.8831 299.999,46.8868\" style=\"fill:none;fill-rule:evenodd;stroke:#000000;stroke-width:2px;stroke-linecap:butt;stroke-linejoin:miter;stroke-opacity:1\"/>\n",
       "<path d=\"M 298.659,25.0078 297.005,44.2108\" style=\"fill:none;fill-rule:evenodd;stroke:#000000;stroke-width:2px;stroke-linecap:butt;stroke-linejoin:miter;stroke-opacity:1;stroke-dasharray:6,6\"/>\n",
       "<path d=\"M 282.312,9.09091 260.49,19.3024\" style=\"fill:none;fill-rule:evenodd;stroke:#000000;stroke-width:2px;stroke-linecap:butt;stroke-linejoin:miter;stroke-opacity:1\"/>\n",
       "<path d=\"M 281.491,13.0216 264.034,21.1908\" style=\"fill:none;fill-rule:evenodd;stroke:#000000;stroke-width:2px;stroke-linecap:butt;stroke-linejoin:miter;stroke-opacity:1;stroke-dasharray:6,6\"/>\n",
       "<path d=\"M 260.49,19.3024 258.423,43.3061\" style=\"fill:none;fill-rule:evenodd;stroke:#000000;stroke-width:2px;stroke-linecap:butt;stroke-linejoin:miter;stroke-opacity:1\"/>\n",
       "<path d=\"M 263.484,21.9784 261.83,41.1814\" style=\"fill:none;fill-rule:evenodd;stroke:#000000;stroke-width:2px;stroke-linecap:butt;stroke-linejoin:miter;stroke-opacity:1;stroke-dasharray:6,6\"/>\n",
       "<path d=\"M 258.423,43.3061 278.177,57.0983\" style=\"fill:none;fill-rule:evenodd;stroke:#000000;stroke-width:2px;stroke-linecap:butt;stroke-linejoin:miter;stroke-opacity:1\"/>\n",
       "<path d=\"M 262.237,42.0515 278.041,53.0852\" style=\"fill:none;fill-rule:evenodd;stroke:#000000;stroke-width:2px;stroke-linecap:butt;stroke-linejoin:miter;stroke-opacity:1;stroke-dasharray:6,6\"/>\n",
       "<path d=\"M 258.423,43.3061 248.985,47.7228\" style=\"fill:none;fill-rule:evenodd;stroke:#000000;stroke-width:2px;stroke-linecap:butt;stroke-linejoin:miter;stroke-opacity:1\"/>\n",
       "<path d=\"M 248.985,47.7228 239.547,52.1394\" style=\"fill:none;fill-rule:evenodd;stroke:#33CCCC;stroke-width:2px;stroke-linecap:butt;stroke-linejoin:miter;stroke-opacity:1\"/>\n",
       "<path d=\"M 278.177,57.0983 299.999,46.8868\" style=\"fill:none;fill-rule:evenodd;stroke:#000000;stroke-width:2px;stroke-linecap:butt;stroke-linejoin:miter;stroke-opacity:1\"/>\n",
       "<path d=\"M 278.998,53.1677 296.455,44.9984\" style=\"fill:none;fill-rule:evenodd;stroke:#000000;stroke-width:2px;stroke-linecap:butt;stroke-linejoin:miter;stroke-opacity:1;stroke-dasharray:6,6\"/>\n",
       "<path d=\"M 278.177,57.0983 276.11,81.102\" style=\"fill:none;fill-rule:evenodd;stroke:#000000;stroke-width:2px;stroke-linecap:butt;stroke-linejoin:miter;stroke-opacity:1\"/>\n",
       "<path d=\"M 276.11,81.102 284.112,86.6889\" style=\"fill:none;fill-rule:evenodd;stroke:#000000;stroke-width:2px;stroke-linecap:butt;stroke-linejoin:miter;stroke-opacity:1\"/>\n",
       "<path d=\"M 284.112,86.6889 292.114,92.2758\" style=\"fill:none;fill-rule:evenodd;stroke:#FF0000;stroke-width:2px;stroke-linecap:butt;stroke-linejoin:miter;stroke-opacity:1\"/>\n",
       "<path d=\"M 295.518,98.9097 294.657,108.904\" style=\"fill:none;fill-rule:evenodd;stroke:#FF0000;stroke-width:2px;stroke-linecap:butt;stroke-linejoin:miter;stroke-opacity:1\"/>\n",
       "<path d=\"M 294.657,108.904 293.797,118.898\" style=\"fill:none;fill-rule:evenodd;stroke:#000000;stroke-width:2px;stroke-linecap:butt;stroke-linejoin:miter;stroke-opacity:1\"/>\n",
       "<path d=\"M 293.797,118.898 313.551,132.69\" style=\"fill:none;fill-rule:evenodd;stroke:#000000;stroke-width:2px;stroke-linecap:butt;stroke-linejoin:miter;stroke-opacity:1\"/>\n",
       "<path d=\"M 293.933,122.911 309.736,133.945\" style=\"fill:none;fill-rule:evenodd;stroke:#000000;stroke-width:2px;stroke-linecap:butt;stroke-linejoin:miter;stroke-opacity:1;stroke-dasharray:6,6\"/>\n",
       "<path d=\"M 293.797,118.898 271.975,129.109\" style=\"fill:none;fill-rule:evenodd;stroke:#000000;stroke-width:2px;stroke-linecap:butt;stroke-linejoin:miter;stroke-opacity:1\"/>\n",
       "<path d=\"M 292.976,122.829 275.519,130.998\" style=\"fill:none;fill-rule:evenodd;stroke:#000000;stroke-width:2px;stroke-linecap:butt;stroke-linejoin:miter;stroke-opacity:1;stroke-dasharray:6,6\"/>\n",
       "<path d=\"M 313.551,132.69 311.484,156.694\" style=\"fill:none;fill-rule:evenodd;stroke:#000000;stroke-width:2px;stroke-linecap:butt;stroke-linejoin:miter;stroke-opacity:1\"/>\n",
       "<path d=\"M 310.144,134.815 308.49,154.018\" style=\"fill:none;fill-rule:evenodd;stroke:#000000;stroke-width:2px;stroke-linecap:butt;stroke-linejoin:miter;stroke-opacity:1;stroke-dasharray:6,6\"/>\n",
       "<path d=\"M 311.484,156.694 289.662,166.905\" style=\"fill:none;fill-rule:evenodd;stroke:#000000;stroke-width:2px;stroke-linecap:butt;stroke-linejoin:miter;stroke-opacity:1\"/>\n",
       "<path d=\"M 307.94,154.805 290.483,162.975\" style=\"fill:none;fill-rule:evenodd;stroke:#000000;stroke-width:2px;stroke-linecap:butt;stroke-linejoin:miter;stroke-opacity:1;stroke-dasharray:6,6\"/>\n",
       "<path d=\"M 289.662,166.905 269.908,153.113\" style=\"fill:none;fill-rule:evenodd;stroke:#000000;stroke-width:2px;stroke-linecap:butt;stroke-linejoin:miter;stroke-opacity:1\"/>\n",
       "<path d=\"M 289.526,162.892 273.722,151.859\" style=\"fill:none;fill-rule:evenodd;stroke:#000000;stroke-width:2px;stroke-linecap:butt;stroke-linejoin:miter;stroke-opacity:1;stroke-dasharray:6,6\"/>\n",
       "<path d=\"M 289.662,166.905 288.801,176.9\" style=\"fill:none;fill-rule:evenodd;stroke:#000000;stroke-width:2px;stroke-linecap:butt;stroke-linejoin:miter;stroke-opacity:1\"/>\n",
       "<path d=\"M 288.801,176.9 287.941,186.894\" style=\"fill:none;fill-rule:evenodd;stroke:#7F4C19;stroke-width:2px;stroke-linecap:butt;stroke-linejoin:miter;stroke-opacity:1\"/>\n",
       "<path d=\"M 269.908,153.113 271.975,129.109\" style=\"fill:none;fill-rule:evenodd;stroke:#000000;stroke-width:2px;stroke-linecap:butt;stroke-linejoin:miter;stroke-opacity:1\"/>\n",
       "<path d=\"M 273.315,150.988 274.969,131.785\" style=\"fill:none;fill-rule:evenodd;stroke:#000000;stroke-width:2px;stroke-linecap:butt;stroke-linejoin:miter;stroke-opacity:1;stroke-dasharray:6,6\"/>\n",
       "<path d=\"M 271.975,129.109 252.221,115.317\" style=\"fill:none;fill-rule:evenodd;stroke:#000000;stroke-width:2px;stroke-linecap:butt;stroke-linejoin:miter;stroke-opacity:1\"/>\n",
       "<path d=\"M 252.221,115.317 244.791,118.794\" style=\"fill:none;fill-rule:evenodd;stroke:#000000;stroke-width:2px;stroke-linecap:butt;stroke-linejoin:miter;stroke-opacity:1\"/>\n",
       "<path d=\"M 244.791,118.794 237.36,122.271\" style=\"fill:none;fill-rule:evenodd;stroke:#0000FF;stroke-width:2px;stroke-linecap:butt;stroke-linejoin:miter;stroke-opacity:1\"/>\n",
       "<path d=\"M 224.648,121.513 217.647,116.625\" style=\"fill:none;fill-rule:evenodd;stroke:#0000FF;stroke-width:2px;stroke-linecap:butt;stroke-linejoin:miter;stroke-opacity:1\"/>\n",
       "<path d=\"M 217.647,116.625 210.645,111.737\" style=\"fill:none;fill-rule:evenodd;stroke:#000000;stroke-width:2px;stroke-linecap:butt;stroke-linejoin:miter;stroke-opacity:1\"/>\n",
       "<path d=\"M 210.645,111.737 188.824,121.948\" style=\"fill:none;fill-rule:evenodd;stroke:#000000;stroke-width:2px;stroke-linecap:butt;stroke-linejoin:miter;stroke-opacity:1\"/>\n",
       "<path d=\"M 188.824,121.948 181.822,117.06\" style=\"fill:none;fill-rule:evenodd;stroke:#000000;stroke-width:2px;stroke-linecap:butt;stroke-linejoin:miter;stroke-opacity:1\"/>\n",
       "<path d=\"M 181.822,117.06 174.821,112.171\" style=\"fill:none;fill-rule:evenodd;stroke:#0000FF;stroke-width:2px;stroke-linecap:butt;stroke-linejoin:miter;stroke-opacity:1\"/>\n",
       "<path d=\"M 162.109,111.413 154.679,114.89\" style=\"fill:none;fill-rule:evenodd;stroke:#0000FF;stroke-width:2px;stroke-linecap:butt;stroke-linejoin:miter;stroke-opacity:1\"/>\n",
       "<path d=\"M 154.679,114.89 147.248,118.367\" style=\"fill:none;fill-rule:evenodd;stroke:#000000;stroke-width:2px;stroke-linecap:butt;stroke-linejoin:miter;stroke-opacity:1\"/>\n",
       "<path d=\"M 148.849,118.505 147.988,128.499\" style=\"fill:none;fill-rule:evenodd;stroke:#000000;stroke-width:2px;stroke-linecap:butt;stroke-linejoin:miter;stroke-opacity:1\"/>\n",
       "<path d=\"M 147.988,128.499 147.127,138.494\" style=\"fill:none;fill-rule:evenodd;stroke:#FF0000;stroke-width:2px;stroke-linecap:butt;stroke-linejoin:miter;stroke-opacity:1\"/>\n",
       "<path d=\"M 145.648,118.23 144.787,128.224\" style=\"fill:none;fill-rule:evenodd;stroke:#000000;stroke-width:2px;stroke-linecap:butt;stroke-linejoin:miter;stroke-opacity:1\"/>\n",
       "<path d=\"M 144.787,128.224 143.927,138.218\" style=\"fill:none;fill-rule:evenodd;stroke:#FF0000;stroke-width:2px;stroke-linecap:butt;stroke-linejoin:miter;stroke-opacity:1\"/>\n",
       "<path d=\"M 147.248,118.367 127.494,104.575\" style=\"fill:none;fill-rule:evenodd;stroke:#000000;stroke-width:2px;stroke-linecap:butt;stroke-linejoin:miter;stroke-opacity:1\"/>\n",
       "<path d=\"M 127.494,104.575 127.041,80.487\" style=\"fill:none;fill-rule:evenodd;stroke:#000000;stroke-width:2px;stroke-linecap:butt;stroke-linejoin:miter;stroke-opacity:1\"/>\n",
       "<path d=\"M 124.237,102.227 123.875,82.9562\" style=\"fill:none;fill-rule:evenodd;stroke:#000000;stroke-width:2px;stroke-linecap:butt;stroke-linejoin:miter;stroke-opacity:1;stroke-dasharray:6,6\"/>\n",
       "<path d=\"M 127.494,104.575 117.85,107.911\" style=\"fill:none;fill-rule:evenodd;stroke:#000000;stroke-width:2px;stroke-linecap:butt;stroke-linejoin:miter;stroke-opacity:1\"/>\n",
       "<path d=\"M 117.85,107.911 108.205,111.246\" style=\"fill:none;fill-rule:evenodd;stroke:#0000FF;stroke-width:2px;stroke-linecap:butt;stroke-linejoin:miter;stroke-opacity:1\"/>\n",
       "<path d=\"M 124.515,102.206 116.8,104.875\" style=\"fill:none;fill-rule:evenodd;stroke:#000000;stroke-width:2px;stroke-linecap:butt;stroke-linejoin:miter;stroke-opacity:1;stroke-dasharray:6,6\"/>\n",
       "<path d=\"M 116.8,104.875 109.084,107.543\" style=\"fill:none;fill-rule:evenodd;stroke:#0000FF;stroke-width:2px;stroke-linecap:butt;stroke-linejoin:miter;stroke-opacity:1;stroke-dasharray:6,6\"/>\n",
       "<path d=\"M 127.041,80.487 117.256,77.51\" style=\"fill:none;fill-rule:evenodd;stroke:#000000;stroke-width:2px;stroke-linecap:butt;stroke-linejoin:miter;stroke-opacity:1\"/>\n",
       "<path d=\"M 117.256,77.51 107.472,74.5331\" style=\"fill:none;fill-rule:evenodd;stroke:#0000FF;stroke-width:2px;stroke-linecap:butt;stroke-linejoin:miter;stroke-opacity:1\"/>\n",
       "<path d=\"M 124.149,82.9648 116.321,80.5833\" style=\"fill:none;fill-rule:evenodd;stroke:#000000;stroke-width:2px;stroke-linecap:butt;stroke-linejoin:miter;stroke-opacity:1;stroke-dasharray:6,6\"/>\n",
       "<path d=\"M 116.321,80.5833 108.494,78.2017\" style=\"fill:none;fill-rule:evenodd;stroke:#0000FF;stroke-width:2px;stroke-linecap:butt;stroke-linejoin:miter;stroke-opacity:1;stroke-dasharray:6,6\"/>\n",
       "<path d=\"M 127.041,80.487 133.995,75.232\" style=\"fill:none;fill-rule:evenodd;stroke:#000000;stroke-width:2px;stroke-linecap:butt;stroke-linejoin:miter;stroke-opacity:1\"/>\n",
       "<path d=\"M 133.995,75.232 140.949,69.9771\" style=\"fill:none;fill-rule:evenodd;stroke:#0000FF;stroke-width:2px;stroke-linecap:butt;stroke-linejoin:miter;stroke-opacity:1\"/>\n",
       "<path d=\"M 101.188,77.4896 97.0955,83.3513\" style=\"fill:none;fill-rule:evenodd;stroke:#0000FF;stroke-width:2px;stroke-linecap:butt;stroke-linejoin:miter;stroke-opacity:1\"/>\n",
       "<path d=\"M 97.0955,83.3513 93.003,89.2129\" style=\"fill:none;fill-rule:evenodd;stroke:#FF0000;stroke-width:2px;stroke-linecap:butt;stroke-linejoin:miter;stroke-opacity:1\"/>\n",
       "<path d=\"M 103.003,80.5009 99.7294,85.1902\" style=\"fill:none;fill-rule:evenodd;stroke:#0000FF;stroke-width:2px;stroke-linecap:butt;stroke-linejoin:miter;stroke-opacity:1;stroke-dasharray:6,6\"/>\n",
       "<path d=\"M 99.7294,85.1902 96.4554,89.8796\" style=\"fill:none;fill-rule:evenodd;stroke:#FF0000;stroke-width:2px;stroke-linecap:butt;stroke-linejoin:miter;stroke-opacity:1;stroke-dasharray:6,6\"/>\n",
       "<path d=\"M 93.2338,97.2438 97.4621,102.839\" style=\"fill:none;fill-rule:evenodd;stroke:#FF0000;stroke-width:2px;stroke-linecap:butt;stroke-linejoin:miter;stroke-opacity:1\"/>\n",
       "<path d=\"M 97.4621,102.839 101.69,108.434\" style=\"fill:none;fill-rule:evenodd;stroke:#0000FF;stroke-width:2px;stroke-linecap:butt;stroke-linejoin:miter;stroke-opacity:1\"/>\n",
       "<path d=\"M 96.6423,96.4261 100.025,100.902\" style=\"fill:none;fill-rule:evenodd;stroke:#FF0000;stroke-width:2px;stroke-linecap:butt;stroke-linejoin:miter;stroke-opacity:1;stroke-dasharray:6,6\"/>\n",
       "<path d=\"M 100.025,100.902 103.408,105.379\" style=\"fill:none;fill-rule:evenodd;stroke:#0000FF;stroke-width:2px;stroke-linecap:butt;stroke-linejoin:miter;stroke-opacity:1;stroke-dasharray:6,6\"/>\n",
       "<text style=\"font-size:8px;font-style:normal;font-weight:normal;fill-opacity:1;stroke:none;font-family:sans-serif;text-anchor:start;fill:#5E7F87\" x=\"292.114\" y=\"98.0788\"><tspan>O</tspan></text>\n",
       "<text style=\"font-size:8px;font-style:normal;font-weight:normal;fill-opacity:1;stroke:none;font-family:sans-serif;text-anchor:start;fill:#D17F78\" x=\"223.439\" y=\"128.713\"><tspan>NH</tspan></text>\n",
       "<text style=\"font-size:8px;font-style:normal;font-weight:normal;fill-opacity:1;stroke:none;font-family:sans-serif;text-anchor:start;fill:#0B7F93\" x=\"162.109\" y=\"111.341\"><tspan>NH</tspan></text>\n",
       "<text style=\"font-size:8px;font-style:normal;font-weight:normal;fill-opacity:1;stroke:none;font-family:sans-serif;text-anchor:start;fill:#C27F43\" x=\"141.431\" y=\"145.556\"><tspan>O</tspan></text>\n",
       "<text style=\"font-size:8px;font-style:normal;font-weight:normal;fill-opacity:1;stroke:none;font-family:sans-serif;text-anchor:start;fill:#C27F43\" x=\"100.511\" y=\"76.6587\"><tspan>N</tspan></text>\n",
       "<text style=\"font-size:8px;font-style:normal;font-weight:normal;fill-opacity:1;stroke:none;font-family:sans-serif;text-anchor:start;fill:#C27F43\" x=\"86.4491\" y=\"96.4129\"><tspan>O</tspan></text>\n",
       "<text style=\"font-size:8px;font-style:normal;font-weight:normal;fill-opacity:1;stroke:none;font-family:sans-serif;text-anchor:start;fill:#C27F43\" x=\"101.244\" y=\"115.634\"><tspan>N</tspan></text>\n",
       "<text style=\"font-size:8px;font-style:normal;font-weight:normal;fill-opacity:1;stroke:none;font-family:sans-serif;text-anchor:start;fill:#C27F43\" x=\"137.292\" y=\"69.1462\"><tspan>NH</tspan><tspan style=\"baseline-shift:sub;font-size:6px;\">2</tspan><tspan/></text>\n",
       "<text style=\"font-size:8px;font-style:normal;font-weight:normal;fill-opacity:1;stroke:none;font-family:sans-serif;text-anchor:start;fill:#5E7F87\" x=\"282.774\" y=\"194.094\"><tspan>Br</tspan></text>\n",
       "<text style=\"font-size:8px;font-style:normal;font-weight:normal;fill-opacity:1;stroke:none;font-family:sans-serif;text-anchor:start;fill:#AA7F11\" x=\"233.656\" y=\"56.7022\"><tspan>F</tspan></text>\n",
       "</svg>"
      ],
      "text/plain": [
       "<IPython.core.display.SVG object>"
      ]
     },
     "execution_count": 31,
     "metadata": {},
     "output_type": "execute_result"
    }
   ],
   "source": [
    "rftools.draw_molecule_svg(mol_r, frags_r)"
   ]
  },
  {
   "cell_type": "markdown",
   "metadata": {
    "slideshow": {
     "slide_type": "subslide"
    }
   },
   "source": [
    "#### 4\\. RFGraph construction"
   ]
  },
  {
   "cell_type": "code",
   "execution_count": 32,
   "metadata": {
    "collapsed": false
   },
   "outputs": [
    {
     "data": {
      "text/plain": [
       "I am an RFGraph.\n",
       "================\n",
       "0   1   [*]Cc1ccccc1F       \n",
       "1   2   [*]Cc1cc(Br)ccc1O[*]\n",
       "2   2   [*]N[*]             \n",
       "3   2   [*]CC[*]            \n",
       "4   2   [*]N[*]             \n",
       "5   1   [*]C(=O)c1nonc1N    "
      ]
     },
     "execution_count": 32,
     "metadata": {},
     "output_type": "execute_result"
    }
   ],
   "source": [
    "from redfrag import rfgraph\n",
    "\n",
    "rfg_r = rfgraph.RFGraph(mol_r, frags_r)\n",
    "rfg_r.id = \"I am an RFGraph.\"\n",
    "rfg_r"
   ]
  },
  {
   "cell_type": "markdown",
   "metadata": {
    "slideshow": {
     "slide_type": "subslide"
    }
   },
   "source": [
    "#### 5\\. fragment sanitization & node typing"
   ]
  },
  {
   "cell_type": "code",
   "execution_count": 33,
   "metadata": {
    "collapsed": false,
    "slideshow": {
     "slide_type": "fragment"
    }
   },
   "outputs": [
    {
     "name": "stdout",
     "output_type": "stream",
     "text": [
      "0 <rdkit.DataStructs.cDataStructs.ExplicitBitVect object at 0x07502228>\n",
      "1 <rdkit.DataStructs.cDataStructs.ExplicitBitVect object at 0x074FD228>\n",
      "2 <rdkit.DataStructs.cDataStructs.ExplicitBitVect object at 0x074FD148>\n",
      "3 <rdkit.DataStructs.cDataStructs.ExplicitBitVect object at 0x074FD3E8>\n",
      "4 <rdkit.DataStructs.cDataStructs.ExplicitBitVect object at 0x074FD458>\n",
      "5 <rdkit.DataStructs.cDataStructs.ExplicitBitVect object at 0x074FD810>\n"
     ]
    }
   ],
   "source": [
    "rftools.sanitize_nodes(rfg_r)\n",
    "for i, node in rfg_r.get_nodes():\n",
    "    print i, node.molecule.fingerprint"
   ]
  },
  {
   "cell_type": "markdown",
   "metadata": {
    "slideshow": {
     "slide_type": "fragment"
    }
   },
   "source": [
    "#### 5\\. fragment sanitization with dummy atom removal and explicit replacement"
   ]
  },
  {
   "cell_type": "code",
   "execution_count": 34,
   "metadata": {
    "collapsed": false,
    "slideshow": {
     "slide_type": "-"
    }
   },
   "outputs": [
    {
     "data": {
      "text/plain": [
       "I am an RFGraph.\n",
       "================\n",
       "0   1   Fc1ccccc1C[Ag]      \n",
       "1   2   Brc1ccc(O[Au])c(C[Ag])c1\n",
       "2   2   [Au]N[Au]           \n",
       "3   2   [Ag]CC[Ag]          \n",
       "4   2   [Au]N[Au]           \n",
       "5   1   Nc1nonc1C(=O)[Ag]   "
      ]
     },
     "execution_count": 34,
     "metadata": {},
     "output_type": "execute_result"
    }
   ],
   "source": [
    "rftools.sanitize_nodes(rfg_r, rmdummy = True, explicit = True)\n",
    "rfg_r"
   ]
  },
  {
   "cell_type": "markdown",
   "metadata": {
    "slideshow": {
     "slide_type": "subslide"
    }
   },
   "source": [
    "#### 6\\. RFGraph visualization"
   ]
  },
  {
   "cell_type": "code",
   "execution_count": 35,
   "metadata": {
    "collapsed": false,
    "slideshow": {
     "slide_type": "-"
    }
   },
   "outputs": [
    {
     "data": {
      "image/png": "[encoded data removed]",
      "text/plain": [
       "<Image.Image image mode=RGBA size=800x400 at 0x7398FD0>"
      ]
     },
     "execution_count": 35,
     "metadata": {},
     "output_type": "execute_result"
    }
   ],
   "source": [
    "rfm_r = rftools.molecule_from_rfgraph(rfg_r)\n",
    "rftools.draw_molecules([rfm_r, mol_r], fragments=[None, frags_r])"
   ]
  },
  {
   "cell_type": "markdown",
   "metadata": {
    "slideshow": {
     "slide_type": "subslide"
    }
   },
   "source": [
    "#### ... and what they are also good for"
   ]
  },
  {
   "cell_type": "markdown",
   "metadata": {
    "slideshow": {
     "slide_type": "-"
    }
   },
   "source": [
    "![Alt text](image-04.png)"
   ]
  },
  {
   "cell_type": "markdown",
   "metadata": {
    "slideshow": {
     "slide_type": "subslide"
    }
   },
   "source": [
    "![Alt text](pymol-22.png)"
   ]
  },
  {
   "cell_type": "markdown",
   "metadata": {
    "slideshow": {
     "slide_type": "slide"
    }
   },
   "source": [
    "## scoring a pair of RFGraphs\n",
    "### remember, there were two of them ..."
   ]
  },
  {
   "cell_type": "code",
   "execution_count": 36,
   "metadata": {
    "collapsed": false,
    "slideshow": {
     "slide_type": "fragment"
    }
   },
   "outputs": [
    {
     "data": {
      "image/png": "[encoded data removed]",
      "text/plain": [
       "<Image.Image image mode=RGBA size=800x400 at 0x73DA300>"
      ]
     },
     "execution_count": 36,
     "metadata": {},
     "output_type": "execute_result"
    }
   ],
   "source": [
    "rftools.draw_molecules([mol_r, mol_t])"
   ]
  },
  {
   "cell_type": "markdown",
   "metadata": {
    "slideshow": {
     "slide_type": "subslide"
    }
   },
   "source": [
    "### let us hack the other molecule into pieces ..."
   ]
  },
  {
   "cell_type": "code",
   "execution_count": 37,
   "metadata": {
    "collapsed": false,
    "slideshow": {
     "slide_type": "-"
    }
   },
   "outputs": [
    {
     "data": {
      "text/plain": [
       "I am an RFGraph, too!\n",
       "=====================\n",
       "0   1   [*]Cc1ccc(OC)c(OC)c1OC\n",
       "1   2   [*]N[*]             \n",
       "2   2   [*]CC[*]            \n",
       "3   2   [*]N[*]             \n",
       "4   1   [*]C(=O)c1ccco1     "
      ]
     },
     "execution_count": 37,
     "metadata": {},
     "output_type": "execute_result"
    }
   ],
   "source": [
    "rfg_t = rftools.rfgraph_from_molecule(mol_t)\n",
    "rfg_t.id = \"I am an RFGraph, too!\"\n",
    "rfg_t"
   ]
  },
  {
   "cell_type": "code",
   "execution_count": 38,
   "metadata": {
    "collapsed": false,
    "slideshow": {
     "slide_type": "fragment"
    }
   },
   "outputs": [
    {
     "data": {
      "image/png": "[encoded data removed]",
      "text/plain": [
       "<Image.Image image mode=RGBA size=800x400 at 0x7409FD0>"
      ]
     },
     "execution_count": 38,
     "metadata": {},
     "output_type": "execute_result"
    }
   ],
   "source": [
    "rfm_t = rftools.molecule_from_rfgraph(rfg_t)\n",
    "rftools.draw_molecules([rfm_t, mol_t], fragments=[None, [node.molecule for _, node in rfg_t.get_nodes()]])"
   ]
  },
  {
   "cell_type": "markdown",
   "metadata": {
    "slideshow": {
     "slide_type": "subslide"
    }
   },
   "source": [
    "### ... and use a high-level RFGraph scorer to get a score"
   ]
  },
  {
   "cell_type": "code",
   "execution_count": 39,
   "metadata": {
    "collapsed": false,
    "slideshow": {
     "slide_type": "-"
    }
   },
   "outputs": [
    {
     "data": {
      "text/plain": [
       "array([ 0.7549,  0.8333,  0.6764])"
      ]
     },
     "execution_count": 39,
     "metadata": {},
     "output_type": "execute_result"
    }
   ],
   "source": [
    "rftools.score_rfgraphs(rfg_r, rfg_t)"
   ]
  },
  {
   "cell_type": "markdown",
   "metadata": {
    "slideshow": {
     "slide_type": "fragment"
    }
   },
   "source": [
    "### we can use the two molecules *mol_r* and *mol_t* directly ..."
   ]
  },
  {
   "cell_type": "code",
   "execution_count": 40,
   "metadata": {
    "collapsed": false,
    "slideshow": {
     "slide_type": "-"
    }
   },
   "outputs": [
    {
     "data": {
      "text/plain": [
       "array([ 0.7937,  0.8333,  0.7541])"
      ]
     },
     "execution_count": 40,
     "metadata": {},
     "output_type": "execute_result"
    }
   ],
   "source": [
    "rftools.score_rfgraphs_from_molecules(mol_r, mol_t)"
   ]
  },
  {
   "cell_type": "markdown",
   "metadata": {
    "slideshow": {
     "slide_type": "fragment"
    }
   },
   "source": [
    "### ... and even without fragmentation (just for comparison)"
   ]
  },
  {
   "cell_type": "code",
   "execution_count": 41,
   "metadata": {
    "collapsed": false,
    "slideshow": {
     "slide_type": "-"
    }
   },
   "outputs": [
    {
     "data": {
      "text/plain": [
       "array([ 0.6053])"
      ]
     },
     "execution_count": 41,
     "metadata": {},
     "output_type": "execute_result"
    }
   ],
   "source": [
    "rftools.score_molecules(mol_r, mol_t)"
   ]
  },
  {
   "cell_type": "markdown",
   "metadata": {
    "slideshow": {
     "slide_type": "subslide"
    }
   },
   "source": [
    "## visualization of the MCS\n",
    "\n",
    "### highlighting the pairwise fragment matchings"
   ]
  },
  {
   "cell_type": "code",
   "execution_count": 42,
   "metadata": {
    "collapsed": false
   },
   "outputs": [
    {
     "data": {
      "image/png": "[encoded data removed]",
      "text/plain": [
       "<Image.Image image mode=RGBA size=800x400 at 0x748EDC8>"
      ]
     },
     "execution_count": 42,
     "metadata": {},
     "output_type": "execute_result"
    }
   ],
   "source": [
    "rftools.draw_mcs([mol_r, mol_t])"
   ]
  },
  {
   "cell_type": "markdown",
   "metadata": {
    "slideshow": {
     "slide_type": "slide"
    }
   },
   "source": [
    "# the redfrag python module\n",
    "<br />\n",
    "## yet another view onto similarity ...\n",
    "  - graph reduction of small molecules\n",
    "  - topological & fragmental similarity estimation\n",
    "  - abstract view of molecules\n",
    "  - high customizability\n",
    "  - many posibilites to tweak & tune & play"
   ]
  },
  {
   "cell_type": "markdown",
   "metadata": {
    "slideshow": {
     "slide_type": "fragment"
    }
   },
   "source": [
    "-   \n",
    "    - fragmentation patterns\n",
    "    - graph compression\n",
    "    - similarity threshold\n",
    "    - score weighting"
   ]
  },
  {
   "cell_type": "markdown",
   "metadata": {
    "slideshow": {
     "slide_type": "slide"
    }
   },
   "source": [
    "## REDFRAG\n",
    "### REDuced graph FRAGment-based similarity searching"
   ]
  },
  {
   "cell_type": "markdown",
   "metadata": {},
   "source": [
    "![alt text](page-01.png)"
   ]
  }
 ],
 "metadata": {
  "celltoolbar": "Slideshow",
  "kernelspec": {
   "display_name": "Python 2",
   "language": "python",
   "name": "python2"
  },
  "language_info": {
   "codemirror_mode": {
    "name": "ipython",
    "version": 2
   },
   "file_extension": ".py",
   "mimetype": "text/x-python",
   "name": "python",
   "nbconvert_exporter": "python",
   "pygments_lexer": "ipython2",
   "version": "2.7.10"
  }
 },
 "nbformat": 4,
 "nbformat_minor": 0
}
